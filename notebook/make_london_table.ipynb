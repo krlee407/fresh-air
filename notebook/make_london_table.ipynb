{
 "cells": [
  {
   "cell_type": "markdown",
   "metadata": {},
   "source": [
    "## 1. data load"
   ]
  },
  {
   "cell_type": "code",
   "execution_count": null,
   "metadata": {},
   "outputs": [],
   "source": [
    "import requests\n",
    "url = 'https://biendata.com/competition/airquality/ld/2018-03-01-0/2018-05-01-23/2k0d1d8'\n",
    "respones= requests.get(url)\n",
    "with open (\"ld_airquality.csv\",'w') as f:\n",
    "    f.write(respones.text)\n",
    "    \n",
    "url = 'https://biendata.com/competition/meteorology/ld_grid/2018-03-01-0/2018-05-01-23/2k0d1d8'\n",
    "respones= requests.get(url)\n",
    "with open (\"ld_grid_airquality.csv\",'w') as f:\n",
    "    f.write(respones.text)"
   ]
  },
  {
   "cell_type": "code",
   "execution_count": 1,
   "metadata": {},
   "outputs": [
    {
     "name": "stderr",
     "output_type": "stream",
     "text": [
      "/anaconda3/lib/python3.6/site-packages/IPython/core/interactiveshell.py:2728: DtypeWarning: Columns (0,1) have mixed types. Specify dtype option on import or set low_memory=False.\n",
      "  interactivity=interactivity, compiler=compiler, result=result)\n"
     ]
    }
   ],
   "source": [
    "import pandas as pd\n",
    "\n",
    "ld_airquality = pd.read_csv(\"ld_airquality.csv\")\n",
    "ld_grid_airquality = pd.read_csv(\"ld_grid_airquality.csv\")\n",
    "ld_air_stations = pd.read_csv(\"London_AirQuality_Stations.csv\")\n",
    "ld_historical_aqi_stations = pd.read_csv(\"London_historical_aqi_forecast_stations_20180331.csv\")\n",
    "ld_historical_aqi_other_stations = pd.read_csv(\"London_historical_aqi_other_stations_20180331.csv\")\n",
    "ld_historical_meo_grid = pd.read_csv(\"London_historical_meo_grid.csv\")"
   ]
  },
  {
   "cell_type": "markdown",
   "metadata": {},
   "source": [
    "## 2. make empty dataframe ld"
   ]
  },
  {
   "cell_type": "code",
   "execution_count": 2,
   "metadata": {},
   "outputs": [],
   "source": [
    "import datetime\n",
    "\n",
    "ld = pd.DataFrame(columns=['station_id', 'utc_time'])\n",
    "ld_airquality = ld_airquality.rename(columns={'time':'utc_time'})\n",
    "ld_station_list = list(set(ld_airquality['station_id']))\n",
    "utc_time = sorted(list(set(ld_airquality['utc_time'])))\n",
    "start_time = datetime.datetime.strptime('2017-01-01 00:00:00', '%Y-%m-%d %H:%M:%S')\n",
    "utc_time = [(start_time + datetime.timedelta(hours=i)).isoformat().replace('T', ' ') for i in range(600*24)]\n",
    "ld['station_id'] = sorted(ld_station_list * 600 * 24)\n",
    "ld['utc_time'] = utc_time * len(ld_station_list)"
   ]
  },
  {
   "cell_type": "markdown",
   "metadata": {},
   "source": [
    "## 3. merge ld_historical data"
   ]
  },
  {
   "cell_type": "code",
   "execution_count": 3,
   "metadata": {},
   "outputs": [],
   "source": [
    "def change_time_format(data):\n",
    "    tmp_time = datetime.datetime.strptime(data, '%Y/%m/%d %H:%M')\n",
    "    return tmp_time.isoformat().replace('T', ' ')"
   ]
  },
  {
   "cell_type": "code",
   "execution_count": 5,
   "metadata": {},
   "outputs": [
    {
     "name": "stdout",
     "output_type": "stream",
     "text": [
      "(141661, 5)\n",
      "(27906, 5)\n"
     ]
    }
   ],
   "source": [
    "air = ld_historical_aqi_stations[['station_id','MeasurementDateGMT','PM2.5 (ug/m3)','PM10 (ug/m3)','NO2 (ug/m3)']]\n",
    "air.columns = ['station_id','utc_time','PM2.5','PM10','NO2']\n",
    "\n",
    "air2 = ld_historical_aqi_other_stations[['Station_ID','MeasurementDateGMT','PM2.5 (ug/m3)','PM10 (ug/m3)','NO2 (ug/m3)']]\n",
    "air2 = air2.dropna()\n",
    "air2.columns = ['station_id','utc_time','PM2.5','PM10','NO2']\n",
    "\n",
    "print(air.shape)\n",
    "print(air2.shape)"
   ]
  },
  {
   "cell_type": "code",
   "execution_count": 6,
   "metadata": {},
   "outputs": [
    {
     "name": "stdout",
     "output_type": "stream",
     "text": [
      "(169567, 5)\n"
     ]
    }
   ],
   "source": [
    "ld_historical_airquality = pd.concat([air,air2])\n",
    "print(ld_historical_airquality.shape)\n",
    "ld_historical_airquality['utc_time'] = list(map(change_time_format,ld_historical_airquality['utc_time']))"
   ]
  },
  {
   "cell_type": "markdown",
   "metadata": {},
   "source": [
    "## 4. add ld_historical_airquality"
   ]
  },
  {
   "cell_type": "code",
   "execution_count": 7,
   "metadata": {},
   "outputs": [
    {
     "data": {
      "text/html": [
       "<div>\n",
       "<style scoped>\n",
       "    .dataframe tbody tr th:only-of-type {\n",
       "        vertical-align: middle;\n",
       "    }\n",
       "\n",
       "    .dataframe tbody tr th {\n",
       "        vertical-align: top;\n",
       "    }\n",
       "\n",
       "    .dataframe thead th {\n",
       "        text-align: right;\n",
       "    }\n",
       "</style>\n",
       "<table border=\"1\" class=\"dataframe\">\n",
       "  <thead>\n",
       "    <tr style=\"text-align: right;\">\n",
       "      <th></th>\n",
       "      <th>station_id</th>\n",
       "      <th>utc_time</th>\n",
       "      <th>PM2.5</th>\n",
       "      <th>PM10</th>\n",
       "      <th>NO2</th>\n",
       "    </tr>\n",
       "  </thead>\n",
       "  <tbody>\n",
       "    <tr>\n",
       "      <th>0</th>\n",
       "      <td>BL0</td>\n",
       "      <td>2017-01-01 00:00:00</td>\n",
       "      <td>30.8</td>\n",
       "      <td>31.6</td>\n",
       "      <td>10.8</td>\n",
       "    </tr>\n",
       "    <tr>\n",
       "      <th>1</th>\n",
       "      <td>BL0</td>\n",
       "      <td>2017-01-01 01:00:00</td>\n",
       "      <td>22.9</td>\n",
       "      <td>34.6</td>\n",
       "      <td>17.3</td>\n",
       "    </tr>\n",
       "    <tr>\n",
       "      <th>2</th>\n",
       "      <td>BL0</td>\n",
       "      <td>2017-01-01 02:00:00</td>\n",
       "      <td>18.4</td>\n",
       "      <td>25.2</td>\n",
       "      <td>14.2</td>\n",
       "    </tr>\n",
       "    <tr>\n",
       "      <th>3</th>\n",
       "      <td>BL0</td>\n",
       "      <td>2017-01-01 03:00:00</td>\n",
       "      <td>19.5</td>\n",
       "      <td>24.0</td>\n",
       "      <td>14.8</td>\n",
       "    </tr>\n",
       "    <tr>\n",
       "      <th>4</th>\n",
       "      <td>BL0</td>\n",
       "      <td>2017-01-01 04:00:00</td>\n",
       "      <td>22.1</td>\n",
       "      <td>26.7</td>\n",
       "      <td>16.7</td>\n",
       "    </tr>\n",
       "  </tbody>\n",
       "</table>\n",
       "</div>"
      ],
      "text/plain": [
       "  station_id             utc_time  PM2.5  PM10   NO2\n",
       "0        BL0  2017-01-01 00:00:00   30.8  31.6  10.8\n",
       "1        BL0  2017-01-01 01:00:00   22.9  34.6  17.3\n",
       "2        BL0  2017-01-01 02:00:00   18.4  25.2  14.2\n",
       "3        BL0  2017-01-01 03:00:00   19.5  24.0  14.8\n",
       "4        BL0  2017-01-01 04:00:00   22.1  26.7  16.7"
      ]
     },
     "execution_count": 7,
     "metadata": {},
     "output_type": "execute_result"
    }
   ],
   "source": [
    "ld_result = pd.merge(ld, ld_historical_airquality, on=['station_id','utc_time'])\n",
    "ld_result.head()"
   ]
  },
  {
   "cell_type": "markdown",
   "metadata": {},
   "source": [
    "## 5. get nearest_grid"
   ]
  },
  {
   "cell_type": "code",
   "execution_count": 9,
   "metadata": {},
   "outputs": [],
   "source": [
    "from utils import get_nearest_grid\n",
    "ld_result['stationName'] = list(map(get_nearest_grid, ld_result['station_id']))"
   ]
  },
  {
   "cell_type": "markdown",
   "metadata": {},
   "source": [
    "## 6. merge airquality & meo_grid"
   ]
  },
  {
   "cell_type": "code",
   "execution_count": 11,
   "metadata": {},
   "outputs": [
    {
     "data": {
      "text/html": [
       "<div>\n",
       "<style scoped>\n",
       "    .dataframe tbody tr th:only-of-type {\n",
       "        vertical-align: middle;\n",
       "    }\n",
       "\n",
       "    .dataframe tbody tr th {\n",
       "        vertical-align: top;\n",
       "    }\n",
       "\n",
       "    .dataframe thead th {\n",
       "        text-align: right;\n",
       "    }\n",
       "</style>\n",
       "<table border=\"1\" class=\"dataframe\">\n",
       "  <thead>\n",
       "    <tr style=\"text-align: right;\">\n",
       "      <th></th>\n",
       "      <th>station_id</th>\n",
       "      <th>utc_time</th>\n",
       "      <th>PM2.5</th>\n",
       "      <th>PM10</th>\n",
       "      <th>NO2</th>\n",
       "      <th>stationName</th>\n",
       "      <th>longitude_x</th>\n",
       "      <th>latitude_x</th>\n",
       "      <th>temperature_x</th>\n",
       "      <th>pressure_x</th>\n",
       "      <th>humidity_x</th>\n",
       "      <th>wind_direction_x</th>\n",
       "      <th>wind_speed/kph_x</th>\n",
       "      <th>longitude_y</th>\n",
       "      <th>latitude_y</th>\n",
       "      <th>temperature_y</th>\n",
       "      <th>pressure_y</th>\n",
       "      <th>humidity_y</th>\n",
       "      <th>wind_direction_y</th>\n",
       "      <th>wind_speed/kph_y</th>\n",
       "    </tr>\n",
       "  </thead>\n",
       "  <tbody>\n",
       "    <tr>\n",
       "      <th>0</th>\n",
       "      <td>BL0</td>\n",
       "      <td>2017-01-01 00:00:00</td>\n",
       "      <td>30.8</td>\n",
       "      <td>31.6</td>\n",
       "      <td>10.8</td>\n",
       "      <td>london_grid_409</td>\n",
       "      <td>-0.1</td>\n",
       "      <td>51.5</td>\n",
       "      <td>5.80</td>\n",
       "      <td>1019.93</td>\n",
       "      <td>91.38</td>\n",
       "      <td>221.79</td>\n",
       "      <td>15.57</td>\n",
       "      <td>-0.1</td>\n",
       "      <td>51.5</td>\n",
       "      <td>5.80</td>\n",
       "      <td>1019.93</td>\n",
       "      <td>91.38</td>\n",
       "      <td>221.79</td>\n",
       "      <td>15.57</td>\n",
       "    </tr>\n",
       "    <tr>\n",
       "      <th>2</th>\n",
       "      <td>BL0</td>\n",
       "      <td>2017-01-01 01:00:00</td>\n",
       "      <td>22.9</td>\n",
       "      <td>34.6</td>\n",
       "      <td>17.3</td>\n",
       "      <td>london_grid_409</td>\n",
       "      <td>-0.1</td>\n",
       "      <td>51.5</td>\n",
       "      <td>5.84</td>\n",
       "      <td>1018.73</td>\n",
       "      <td>89.96</td>\n",
       "      <td>220.34</td>\n",
       "      <td>16.49</td>\n",
       "      <td>-0.1</td>\n",
       "      <td>51.5</td>\n",
       "      <td>5.84</td>\n",
       "      <td>1018.73</td>\n",
       "      <td>89.96</td>\n",
       "      <td>220.34</td>\n",
       "      <td>16.49</td>\n",
       "    </tr>\n",
       "    <tr>\n",
       "      <th>4</th>\n",
       "      <td>BL0</td>\n",
       "      <td>2017-01-01 02:00:00</td>\n",
       "      <td>18.4</td>\n",
       "      <td>25.2</td>\n",
       "      <td>14.2</td>\n",
       "      <td>london_grid_409</td>\n",
       "      <td>-0.1</td>\n",
       "      <td>51.5</td>\n",
       "      <td>5.89</td>\n",
       "      <td>1017.53</td>\n",
       "      <td>88.54</td>\n",
       "      <td>219.03</td>\n",
       "      <td>17.41</td>\n",
       "      <td>-0.1</td>\n",
       "      <td>51.5</td>\n",
       "      <td>5.89</td>\n",
       "      <td>1017.53</td>\n",
       "      <td>88.54</td>\n",
       "      <td>219.03</td>\n",
       "      <td>17.41</td>\n",
       "    </tr>\n",
       "    <tr>\n",
       "      <th>6</th>\n",
       "      <td>BL0</td>\n",
       "      <td>2017-01-01 03:00:00</td>\n",
       "      <td>19.5</td>\n",
       "      <td>24.0</td>\n",
       "      <td>14.8</td>\n",
       "      <td>london_grid_409</td>\n",
       "      <td>-0.1</td>\n",
       "      <td>51.5</td>\n",
       "      <td>5.93</td>\n",
       "      <td>1016.33</td>\n",
       "      <td>87.12</td>\n",
       "      <td>217.86</td>\n",
       "      <td>18.35</td>\n",
       "      <td>-0.1</td>\n",
       "      <td>51.5</td>\n",
       "      <td>5.93</td>\n",
       "      <td>1016.33</td>\n",
       "      <td>87.12</td>\n",
       "      <td>217.86</td>\n",
       "      <td>18.35</td>\n",
       "    </tr>\n",
       "    <tr>\n",
       "      <th>8</th>\n",
       "      <td>BL0</td>\n",
       "      <td>2017-01-01 04:00:00</td>\n",
       "      <td>22.1</td>\n",
       "      <td>26.7</td>\n",
       "      <td>16.7</td>\n",
       "      <td>london_grid_409</td>\n",
       "      <td>-0.1</td>\n",
       "      <td>51.5</td>\n",
       "      <td>6.12</td>\n",
       "      <td>1015.38</td>\n",
       "      <td>87.54</td>\n",
       "      <td>216.18</td>\n",
       "      <td>18.78</td>\n",
       "      <td>-0.1</td>\n",
       "      <td>51.5</td>\n",
       "      <td>6.12</td>\n",
       "      <td>1015.38</td>\n",
       "      <td>87.54</td>\n",
       "      <td>216.18</td>\n",
       "      <td>18.78</td>\n",
       "    </tr>\n",
       "  </tbody>\n",
       "</table>\n",
       "</div>"
      ],
      "text/plain": [
       "  station_id             utc_time  PM2.5  PM10   NO2      stationName  \\\n",
       "0        BL0  2017-01-01 00:00:00   30.8  31.6  10.8  london_grid_409   \n",
       "2        BL0  2017-01-01 01:00:00   22.9  34.6  17.3  london_grid_409   \n",
       "4        BL0  2017-01-01 02:00:00   18.4  25.2  14.2  london_grid_409   \n",
       "6        BL0  2017-01-01 03:00:00   19.5  24.0  14.8  london_grid_409   \n",
       "8        BL0  2017-01-01 04:00:00   22.1  26.7  16.7  london_grid_409   \n",
       "\n",
       "   longitude_x  latitude_x  temperature_x  pressure_x  humidity_x  \\\n",
       "0         -0.1        51.5           5.80     1019.93       91.38   \n",
       "2         -0.1        51.5           5.84     1018.73       89.96   \n",
       "4         -0.1        51.5           5.89     1017.53       88.54   \n",
       "6         -0.1        51.5           5.93     1016.33       87.12   \n",
       "8         -0.1        51.5           6.12     1015.38       87.54   \n",
       "\n",
       "   wind_direction_x  wind_speed/kph_x  longitude_y  latitude_y  temperature_y  \\\n",
       "0            221.79             15.57         -0.1        51.5           5.80   \n",
       "2            220.34             16.49         -0.1        51.5           5.84   \n",
       "4            219.03             17.41         -0.1        51.5           5.89   \n",
       "6            217.86             18.35         -0.1        51.5           5.93   \n",
       "8            216.18             18.78         -0.1        51.5           6.12   \n",
       "\n",
       "   pressure_y  humidity_y  wind_direction_y  wind_speed/kph_y  \n",
       "0     1019.93       91.38            221.79             15.57  \n",
       "2     1018.73       89.96            220.34             16.49  \n",
       "4     1017.53       88.54            219.03             17.41  \n",
       "6     1016.33       87.12            217.86             18.35  \n",
       "8     1015.38       87.54            216.18             18.78  "
      ]
     },
     "execution_count": 11,
     "metadata": {},
     "output_type": "execute_result"
    }
   ],
   "source": [
    "ld_result = pd.merge(ld_result, ld_historical_meo_grid, on=['stationName','utc_time'])\n",
    "ld_result = ld_result.sort_values(by=['station_id','utc_time'])\n",
    "ld_result.head()"
   ]
  },
  {
   "cell_type": "code",
   "execution_count": 12,
   "metadata": {},
   "outputs": [
    {
     "data": {
      "text/plain": [
       "(161541, 20)"
      ]
     },
     "execution_count": 12,
     "metadata": {},
     "output_type": "execute_result"
    }
   ],
   "source": [
    "ld_result.shape"
   ]
  },
  {
   "cell_type": "markdown",
   "metadata": {},
   "source": [
    "## 7. dropna"
   ]
  },
  {
   "cell_type": "code",
   "execution_count": 13,
   "metadata": {},
   "outputs": [],
   "source": [
    "ld_result = ld_result.dropna()"
   ]
  },
  {
   "cell_type": "code",
   "execution_count": 14,
   "metadata": {},
   "outputs": [
    {
     "data": {
      "text/plain": [
       "(118799, 20)"
      ]
     },
     "execution_count": 14,
     "metadata": {},
     "output_type": "execute_result"
    }
   ],
   "source": [
    "ld_result.shape"
   ]
  },
  {
   "cell_type": "code",
   "execution_count": 15,
   "metadata": {},
   "outputs": [],
   "source": [
    "ld_result.to_csv(\"london_table.csv\")"
   ]
  }
 ],
 "metadata": {
  "kernelspec": {
   "display_name": "Python 3",
   "language": "python",
   "name": "python3"
  },
  "language_info": {
   "codemirror_mode": {
    "name": "ipython",
    "version": 3
   },
   "file_extension": ".py",
   "mimetype": "text/x-python",
   "name": "python",
   "nbconvert_exporter": "python",
   "pygments_lexer": "ipython3",
   "version": "3.6.4"
  }
 },
 "nbformat": 4,
 "nbformat_minor": 2
}
