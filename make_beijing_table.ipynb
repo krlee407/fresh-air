{
 "cells": [
  {
   "cell_type": "markdown",
   "metadata": {},
   "source": [
    "### 1. data load"
   ]
  },
  {
   "cell_type": "code",
   "execution_count": 2,
   "metadata": {
    "collapsed": true
   },
   "outputs": [],
   "source": [
    "import pandas as pd\n",
    "\n",
    "bj_aq = pd.read_csv('data/beijing_17_18_aq.csv')\n",
    "bj_meo = pd.read_csv('data/beijing_17_18_meo.csv')\n",
    "bj_his = pd.read_csv('data/Beijing_historical_meo_grid.csv')"
   ]
  },
  {
   "cell_type": "markdown",
   "metadata": {},
   "source": [
    "### 2. make empty DataFrame"
   ]
  },
  {
   "cell_type": "code",
   "execution_count": 3,
   "metadata": {
    "scrolled": true
   },
   "outputs": [
    {
     "data": {
      "text/html": [
       "<div>\n",
       "<style>\n",
       "    .dataframe thead tr:only-child th {\n",
       "        text-align: right;\n",
       "    }\n",
       "\n",
       "    .dataframe thead th {\n",
       "        text-align: left;\n",
       "    }\n",
       "\n",
       "    .dataframe tbody tr th {\n",
       "        vertical-align: top;\n",
       "    }\n",
       "</style>\n",
       "<table border=\"1\" class=\"dataframe\">\n",
       "  <thead>\n",
       "    <tr style=\"text-align: right;\">\n",
       "      <th></th>\n",
       "      <th>station_id</th>\n",
       "      <th>utc_time</th>\n",
       "    </tr>\n",
       "  </thead>\n",
       "  <tbody>\n",
       "    <tr>\n",
       "      <th>0</th>\n",
       "      <td>aotizhongxin</td>\n",
       "      <td>2017-01-01 00:00:00</td>\n",
       "    </tr>\n",
       "    <tr>\n",
       "      <th>1</th>\n",
       "      <td>aotizhongxin</td>\n",
       "      <td>2017-01-01 01:00:00</td>\n",
       "    </tr>\n",
       "    <tr>\n",
       "      <th>2</th>\n",
       "      <td>aotizhongxin</td>\n",
       "      <td>2017-01-01 02:00:00</td>\n",
       "    </tr>\n",
       "    <tr>\n",
       "      <th>3</th>\n",
       "      <td>aotizhongxin</td>\n",
       "      <td>2017-01-01 03:00:00</td>\n",
       "    </tr>\n",
       "    <tr>\n",
       "      <th>4</th>\n",
       "      <td>aotizhongxin</td>\n",
       "      <td>2017-01-01 04:00:00</td>\n",
       "    </tr>\n",
       "  </tbody>\n",
       "</table>\n",
       "</div>"
      ],
      "text/plain": [
       "     station_id             utc_time\n",
       "0  aotizhongxin  2017-01-01 00:00:00\n",
       "1  aotizhongxin  2017-01-01 01:00:00\n",
       "2  aotizhongxin  2017-01-01 02:00:00\n",
       "3  aotizhongxin  2017-01-01 03:00:00\n",
       "4  aotizhongxin  2017-01-01 04:00:00"
      ]
     },
     "execution_count": 3,
     "metadata": {},
     "output_type": "execute_result"
    }
   ],
   "source": [
    "import datetime\n",
    "\n",
    "bj = pd.DataFrame(columns=['station_id', 'utc_time'])\n",
    "\n",
    "bj_aq = bj_aq.rename(columns={'stationId':'station_id'})  # stationId -> station_id로 바꿔주자\n",
    "bj_station_list = list(set(bj_aq['station_id']))\n",
    "bj_station_list = list(map(lambda x : x.replace('_aq', ''), bj_station_list))\n",
    "\n",
    "start_time = datetime.datetime.strptime('2017-01-01 00:00:00', '%Y-%m-%d %H:%M:%S')\n",
    "utc_time = [(start_time + datetime.timedelta(hours=i)).isoformat().replace('T', ' ') for i in range(600*24)]\n",
    "\n",
    "bj['station_id'] = sorted(bj_station_list * 600 * 24)\n",
    "bj['utc_time'] = utc_time * len(bj_station_list)\n",
    "\n",
    "bj.head()"
   ]
  },
  {
   "cell_type": "markdown",
   "metadata": {},
   "source": [
    "### 3. merge air_quality"
   ]
  },
  {
   "cell_type": "code",
   "execution_count": 4,
   "metadata": {
    "scrolled": true
   },
   "outputs": [
    {
     "data": {
      "text/html": [
       "<div>\n",
       "<style>\n",
       "    .dataframe thead tr:only-child th {\n",
       "        text-align: right;\n",
       "    }\n",
       "\n",
       "    .dataframe thead th {\n",
       "        text-align: left;\n",
       "    }\n",
       "\n",
       "    .dataframe tbody tr th {\n",
       "        vertical-align: top;\n",
       "    }\n",
       "</style>\n",
       "<table border=\"1\" class=\"dataframe\">\n",
       "  <thead>\n",
       "    <tr style=\"text-align: right;\">\n",
       "      <th></th>\n",
       "      <th>station_id</th>\n",
       "      <th>utc_time</th>\n",
       "      <th>PM2.5</th>\n",
       "      <th>PM10</th>\n",
       "      <th>NO2</th>\n",
       "      <th>CO</th>\n",
       "      <th>O3</th>\n",
       "      <th>SO2</th>\n",
       "    </tr>\n",
       "  </thead>\n",
       "  <tbody>\n",
       "    <tr>\n",
       "      <th>0</th>\n",
       "      <td>aotizhongxin</td>\n",
       "      <td>2017-01-01 14:00:00</td>\n",
       "      <td>453.0</td>\n",
       "      <td>467.0</td>\n",
       "      <td>156.0</td>\n",
       "      <td>7.2</td>\n",
       "      <td>3.0</td>\n",
       "      <td>9.0</td>\n",
       "    </tr>\n",
       "    <tr>\n",
       "      <th>1</th>\n",
       "      <td>aotizhongxin</td>\n",
       "      <td>2017-01-01 15:00:00</td>\n",
       "      <td>417.0</td>\n",
       "      <td>443.0</td>\n",
       "      <td>143.0</td>\n",
       "      <td>6.8</td>\n",
       "      <td>2.0</td>\n",
       "      <td>8.0</td>\n",
       "    </tr>\n",
       "    <tr>\n",
       "      <th>2</th>\n",
       "      <td>aotizhongxin</td>\n",
       "      <td>2017-01-01 16:00:00</td>\n",
       "      <td>395.0</td>\n",
       "      <td>467.0</td>\n",
       "      <td>141.0</td>\n",
       "      <td>6.9</td>\n",
       "      <td>3.0</td>\n",
       "      <td>8.0</td>\n",
       "    </tr>\n",
       "    <tr>\n",
       "      <th>3</th>\n",
       "      <td>aotizhongxin</td>\n",
       "      <td>2017-01-01 17:00:00</td>\n",
       "      <td>420.0</td>\n",
       "      <td>484.0</td>\n",
       "      <td>139.0</td>\n",
       "      <td>7.4</td>\n",
       "      <td>3.0</td>\n",
       "      <td>9.0</td>\n",
       "    </tr>\n",
       "    <tr>\n",
       "      <th>4</th>\n",
       "      <td>aotizhongxin</td>\n",
       "      <td>2017-01-01 18:00:00</td>\n",
       "      <td>453.0</td>\n",
       "      <td>520.0</td>\n",
       "      <td>157.0</td>\n",
       "      <td>7.6</td>\n",
       "      <td>4.0</td>\n",
       "      <td>9.0</td>\n",
       "    </tr>\n",
       "  </tbody>\n",
       "</table>\n",
       "</div>"
      ],
      "text/plain": [
       "     station_id             utc_time  PM2.5   PM10    NO2   CO   O3  SO2\n",
       "0  aotizhongxin  2017-01-01 14:00:00  453.0  467.0  156.0  7.2  3.0  9.0\n",
       "1  aotizhongxin  2017-01-01 15:00:00  417.0  443.0  143.0  6.8  2.0  8.0\n",
       "2  aotizhongxin  2017-01-01 16:00:00  395.0  467.0  141.0  6.9  3.0  8.0\n",
       "3  aotizhongxin  2017-01-01 17:00:00  420.0  484.0  139.0  7.4  3.0  9.0\n",
       "4  aotizhongxin  2017-01-01 18:00:00  453.0  520.0  157.0  7.6  4.0  9.0"
      ]
     },
     "execution_count": 4,
     "metadata": {},
     "output_type": "execute_result"
    }
   ],
   "source": [
    "bj_aq['station_id'] = list(map(lambda x : x.replace('_aq', ''), bj_aq['station_id']))\n",
    "\n",
    "bj_result = pd.merge(bj, bj_aq, on=['station_id', 'utc_time'])\n",
    "\n",
    "bj_result.head()"
   ]
  },
  {
   "cell_type": "code",
   "execution_count": 5,
   "metadata": {},
   "outputs": [
    {
     "data": {
      "text/plain": [
       "(311010, 8)"
      ]
     },
     "execution_count": 5,
     "metadata": {},
     "output_type": "execute_result"
    }
   ],
   "source": [
    "bj_result.shape"
   ]
  },
  {
   "cell_type": "markdown",
   "metadata": {},
   "source": [
    "### 4. merge historical_meo_grid"
   ]
  },
  {
   "cell_type": "code",
   "execution_count": 6,
   "metadata": {},
   "outputs": [
    {
     "data": {
      "text/html": [
       "<div>\n",
       "<style>\n",
       "    .dataframe thead tr:only-child th {\n",
       "        text-align: right;\n",
       "    }\n",
       "\n",
       "    .dataframe thead th {\n",
       "        text-align: left;\n",
       "    }\n",
       "\n",
       "    .dataframe tbody tr th {\n",
       "        vertical-align: top;\n",
       "    }\n",
       "</style>\n",
       "<table border=\"1\" class=\"dataframe\">\n",
       "  <thead>\n",
       "    <tr style=\"text-align: right;\">\n",
       "      <th></th>\n",
       "      <th>station_id</th>\n",
       "      <th>utc_time</th>\n",
       "      <th>PM2.5</th>\n",
       "      <th>PM10</th>\n",
       "      <th>NO2</th>\n",
       "      <th>CO</th>\n",
       "      <th>O3</th>\n",
       "      <th>SO2</th>\n",
       "      <th>stationName</th>\n",
       "      <th>longitude</th>\n",
       "      <th>latitude</th>\n",
       "      <th>temperature</th>\n",
       "      <th>pressure</th>\n",
       "      <th>humidity</th>\n",
       "      <th>wind_direction</th>\n",
       "      <th>wind_speed/kph</th>\n",
       "    </tr>\n",
       "  </thead>\n",
       "  <tbody>\n",
       "    <tr>\n",
       "      <th>0</th>\n",
       "      <td>aotizhongxin</td>\n",
       "      <td>2017-01-01 14:00:00</td>\n",
       "      <td>453.0</td>\n",
       "      <td>467.0</td>\n",
       "      <td>156.0</td>\n",
       "      <td>7.2</td>\n",
       "      <td>3.0</td>\n",
       "      <td>9.0</td>\n",
       "      <td>beijing_grid_304</td>\n",
       "      <td>116.4</td>\n",
       "      <td>40.0</td>\n",
       "      <td>-2.47</td>\n",
       "      <td>1018.38</td>\n",
       "      <td>54.75</td>\n",
       "      <td>322.13</td>\n",
       "      <td>4.55</td>\n",
       "    </tr>\n",
       "    <tr>\n",
       "      <th>1</th>\n",
       "      <td>aotizhongxin</td>\n",
       "      <td>2017-01-01 15:00:00</td>\n",
       "      <td>417.0</td>\n",
       "      <td>443.0</td>\n",
       "      <td>143.0</td>\n",
       "      <td>6.8</td>\n",
       "      <td>2.0</td>\n",
       "      <td>8.0</td>\n",
       "      <td>beijing_grid_304</td>\n",
       "      <td>116.4</td>\n",
       "      <td>40.0</td>\n",
       "      <td>-2.27</td>\n",
       "      <td>1018.62</td>\n",
       "      <td>52.49</td>\n",
       "      <td>329.11</td>\n",
       "      <td>7.49</td>\n",
       "    </tr>\n",
       "    <tr>\n",
       "      <th>2</th>\n",
       "      <td>aotizhongxin</td>\n",
       "      <td>2017-01-01 16:00:00</td>\n",
       "      <td>395.0</td>\n",
       "      <td>467.0</td>\n",
       "      <td>141.0</td>\n",
       "      <td>6.9</td>\n",
       "      <td>3.0</td>\n",
       "      <td>8.0</td>\n",
       "      <td>beijing_grid_304</td>\n",
       "      <td>116.4</td>\n",
       "      <td>40.0</td>\n",
       "      <td>-2.01</td>\n",
       "      <td>1018.78</td>\n",
       "      <td>49.53</td>\n",
       "      <td>331.53</td>\n",
       "      <td>9.71</td>\n",
       "    </tr>\n",
       "    <tr>\n",
       "      <th>3</th>\n",
       "      <td>aotizhongxin</td>\n",
       "      <td>2017-01-01 17:00:00</td>\n",
       "      <td>420.0</td>\n",
       "      <td>484.0</td>\n",
       "      <td>139.0</td>\n",
       "      <td>7.4</td>\n",
       "      <td>3.0</td>\n",
       "      <td>9.0</td>\n",
       "      <td>beijing_grid_304</td>\n",
       "      <td>116.4</td>\n",
       "      <td>40.0</td>\n",
       "      <td>-1.75</td>\n",
       "      <td>1018.95</td>\n",
       "      <td>46.58</td>\n",
       "      <td>333.05</td>\n",
       "      <td>11.95</td>\n",
       "    </tr>\n",
       "    <tr>\n",
       "      <th>4</th>\n",
       "      <td>aotizhongxin</td>\n",
       "      <td>2017-01-01 18:00:00</td>\n",
       "      <td>453.0</td>\n",
       "      <td>520.0</td>\n",
       "      <td>157.0</td>\n",
       "      <td>7.6</td>\n",
       "      <td>4.0</td>\n",
       "      <td>9.0</td>\n",
       "      <td>beijing_grid_304</td>\n",
       "      <td>116.4</td>\n",
       "      <td>40.0</td>\n",
       "      <td>-1.49</td>\n",
       "      <td>1019.12</td>\n",
       "      <td>43.62</td>\n",
       "      <td>334.09</td>\n",
       "      <td>14.18</td>\n",
       "    </tr>\n",
       "  </tbody>\n",
       "</table>\n",
       "</div>"
      ],
      "text/plain": [
       "     station_id             utc_time  PM2.5   PM10    NO2   CO   O3  SO2  \\\n",
       "0  aotizhongxin  2017-01-01 14:00:00  453.0  467.0  156.0  7.2  3.0  9.0   \n",
       "1  aotizhongxin  2017-01-01 15:00:00  417.0  443.0  143.0  6.8  2.0  8.0   \n",
       "2  aotizhongxin  2017-01-01 16:00:00  395.0  467.0  141.0  6.9  3.0  8.0   \n",
       "3  aotizhongxin  2017-01-01 17:00:00  420.0  484.0  139.0  7.4  3.0  9.0   \n",
       "4  aotizhongxin  2017-01-01 18:00:00  453.0  520.0  157.0  7.6  4.0  9.0   \n",
       "\n",
       "        stationName  longitude  latitude  temperature  pressure  humidity  \\\n",
       "0  beijing_grid_304      116.4      40.0        -2.47   1018.38     54.75   \n",
       "1  beijing_grid_304      116.4      40.0        -2.27   1018.62     52.49   \n",
       "2  beijing_grid_304      116.4      40.0        -2.01   1018.78     49.53   \n",
       "3  beijing_grid_304      116.4      40.0        -1.75   1018.95     46.58   \n",
       "4  beijing_grid_304      116.4      40.0        -1.49   1019.12     43.62   \n",
       "\n",
       "   wind_direction  wind_speed/kph  \n",
       "0          322.13            4.55  \n",
       "1          329.11            7.49  \n",
       "2          331.53            9.71  \n",
       "3          333.05           11.95  \n",
       "4          334.09           14.18  "
      ]
     },
     "execution_count": 6,
     "metadata": {},
     "output_type": "execute_result"
    }
   ],
   "source": [
    "from utils import get_nearest_grid\n",
    "bj_result['stationName'] = list(map(get_nearest_grid, bj_result['station_id']))\n",
    "\n",
    "bj_result = pd.merge(bj_result, bj_his, on=['stationName', 'utc_time'])\n",
    "\n",
    "bj_result.head()"
   ]
  },
  {
   "cell_type": "code",
   "execution_count": 7,
   "metadata": {},
   "outputs": [
    {
     "data": {
      "text/plain": [
       "(311010, 16)"
      ]
     },
     "execution_count": 7,
     "metadata": {},
     "output_type": "execute_result"
    }
   ],
   "source": [
    "bj_result.shape"
   ]
  },
  {
   "cell_type": "markdown",
   "metadata": {},
   "source": [
    "### 5. drop_na"
   ]
  },
  {
   "cell_type": "code",
   "execution_count": 8,
   "metadata": {},
   "outputs": [
    {
     "data": {
      "text/plain": [
       "(200390, 16)"
      ]
     },
     "execution_count": 8,
     "metadata": {},
     "output_type": "execute_result"
    }
   ],
   "source": [
    "bj_result = bj_result.dropna()\n",
    "\n",
    "bj_result.shape"
   ]
  },
  {
   "cell_type": "markdown",
   "metadata": {},
   "source": [
    "### 6. save table"
   ]
  },
  {
   "cell_type": "code",
   "execution_count": 10,
   "metadata": {
    "collapsed": true
   },
   "outputs": [],
   "source": [
    "bj_result.to_csv('beijing_table.csv')"
   ]
  }
 ],
 "metadata": {
  "kernelspec": {
   "display_name": "Python 3",
   "language": "python",
   "name": "python3"
  },
  "language_info": {
   "codemirror_mode": {
    "name": "ipython",
    "version": 3
   },
   "file_extension": ".py",
   "mimetype": "text/x-python",
   "name": "python",
   "nbconvert_exporter": "python",
   "pygments_lexer": "ipython3",
   "version": "3.6.3"
  }
 },
 "nbformat": 4,
 "nbformat_minor": 2
}
