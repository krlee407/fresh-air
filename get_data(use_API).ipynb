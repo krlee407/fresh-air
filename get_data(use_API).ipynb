{
 "cells": [
  {
   "cell_type": "code",
   "execution_count": 5,
   "metadata": {
    "collapsed": true
   },
   "outputs": [],
   "source": [
    "import requests\n",
    "url = 'https://biendata.com/competition/meteorology/bj/2018-03-01-0/2018-04-10-23/2k0d1d8'\n",
    "respones= requests.get(url)\n",
    "with open (\"bj_meteorology_2018-03-01-0-2018-04-10-23.csv\",'w') as f:\n",
    "    f.write(respones.text)"
   ]
  },
  {
   "cell_type": "code",
   "execution_count": 7,
   "metadata": {},
   "outputs": [
    {
     "name": "stdout",
     "output_type": "stream",
     "text": [
      "{\"success\": true}\n"
     ]
    }
   ],
   "source": [
    "import requests\n",
    "files={'files': open('sample_submission.csv','rb')}\n",
    "data = {\n",
    "    \"user_id\": \"krlee407\",\n",
    "    \"team_token\": \"53ed3560830874472182ca33790fe582ebd15bfb2f0506cb03d7757a9acc7480\",\n",
    "    \"description\": 'submit_test',\n",
    "    \"filename\": \"'sample_submission.csv\",\n",
    "}\n",
    "url = 'https://biendata.com/competition/kdd_2018_submit/'\n",
    "response = requests.post(url, files=files, data=data)\n",
    "print(response.text)"
   ]
  },
  {
   "cell_type": "code",
   "execution_count": null,
   "metadata": {
    "collapsed": true
   },
   "outputs": [],
   "source": []
  }
 ],
 "metadata": {
  "kernelspec": {
   "display_name": "Python 3",
   "language": "python",
   "name": "python3"
  },
  "language_info": {
   "codemirror_mode": {
    "name": "ipython",
    "version": 3
   },
   "file_extension": ".py",
   "mimetype": "text/x-python",
   "name": "python",
   "nbconvert_exporter": "python",
   "pygments_lexer": "ipython3",
   "version": "3.6.3"
  }
 },
 "nbformat": 4,
 "nbformat_minor": 2
}
