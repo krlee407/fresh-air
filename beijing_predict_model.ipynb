{
 "cells": [
  {
   "cell_type": "code",
   "execution_count": 1,
   "metadata": {},
   "outputs": [
    {
     "name": "stderr",
     "output_type": "stream",
     "text": [
      "/anaconda3/lib/python3.6/site-packages/h5py/__init__.py:36: FutureWarning: Conversion of the second argument of issubdtype from `float` to `np.floating` is deprecated. In future, it will be treated as `np.float64 == np.dtype(float).type`.\n",
      "  from ._conv import register_converters as _register_converters\n",
      "Using TensorFlow backend.\n"
     ]
    }
   ],
   "source": [
    "import keras\n",
    "import numpy as np\n",
    "from keras.models import Sequential\n",
    "from keras.layers import Dense, LSTM, Dropout\n",
    "from sklearn.preprocessing import MinMaxScaler\n",
    "import matplotlib.pyplot as plt\n",
    "import tensorflow as tf\n",
    "%matplotlib inline\n",
    "\n",
    "tf.set_random_seed(777)"
   ]
  },
  {
   "cell_type": "code",
   "execution_count": 11,
   "metadata": {},
   "outputs": [],
   "source": [
    "import requests\n",
    "url = 'https://biendata.com/competition/airquality/bj/2018-03-01-0/2018-05-31-23/2k0d1d8'\n",
    "respones= requests.get(url)\n",
    "with open (\"bj_airquality.csv\",'w') as f:\n",
    "    f.write(respones.text)"
   ]
  },
  {
   "cell_type": "code",
   "execution_count": 12,
   "metadata": {},
   "outputs": [],
   "source": [
    "import pandas as pd\n",
    "b_air = pd.read_csv(\"bj_airquality.csv\")"
   ]
  },
  {
   "cell_type": "code",
   "execution_count": 13,
   "metadata": {},
   "outputs": [],
   "source": [
    "b_air = b_air[b_air['time'] < '2018-05-18 00:00:00'] # 19일,20일 예측이면 2018-05-18 00:00:00 까지 데이터 받아서 진행"
   ]
  },
  {
   "cell_type": "code",
   "execution_count": 15,
   "metadata": {},
   "outputs": [
    {
     "data": {
      "text/html": [
       "<div>\n",
       "<style scoped>\n",
       "    .dataframe tbody tr th:only-of-type {\n",
       "        vertical-align: middle;\n",
       "    }\n",
       "\n",
       "    .dataframe tbody tr th {\n",
       "        vertical-align: top;\n",
       "    }\n",
       "\n",
       "    .dataframe thead th {\n",
       "        text-align: right;\n",
       "    }\n",
       "</style>\n",
       "<table border=\"1\" class=\"dataframe\">\n",
       "  <thead>\n",
       "    <tr style=\"text-align: right;\">\n",
       "      <th></th>\n",
       "      <th>id</th>\n",
       "      <th>station_id</th>\n",
       "      <th>time</th>\n",
       "      <th>PM25_Concentration</th>\n",
       "      <th>PM10_Concentration</th>\n",
       "      <th>NO2_Concentration</th>\n",
       "      <th>CO_Concentration</th>\n",
       "      <th>O3_Concentration</th>\n",
       "      <th>SO2_Concentration</th>\n",
       "    </tr>\n",
       "  </thead>\n",
       "  <tbody>\n",
       "    <tr>\n",
       "      <th>37167</th>\n",
       "      <td>3002367</td>\n",
       "      <td>xizhimenbei_aq</td>\n",
       "      <td>2018-05-16 23:00:00</td>\n",
       "      <td>76.0</td>\n",
       "      <td>78.0</td>\n",
       "      <td>62.0</td>\n",
       "      <td>1.5</td>\n",
       "      <td>26.0</td>\n",
       "      <td>3.0</td>\n",
       "    </tr>\n",
       "    <tr>\n",
       "      <th>37168</th>\n",
       "      <td>3002368</td>\n",
       "      <td>nansanhuan_aq</td>\n",
       "      <td>2018-05-16 23:00:00</td>\n",
       "      <td>29.0</td>\n",
       "      <td>92.0</td>\n",
       "      <td>69.0</td>\n",
       "      <td>1.2</td>\n",
       "      <td>23.0</td>\n",
       "      <td>7.0</td>\n",
       "    </tr>\n",
       "    <tr>\n",
       "      <th>37169</th>\n",
       "      <td>3002369</td>\n",
       "      <td>dongsihuan_aq</td>\n",
       "      <td>2018-05-16 23:00:00</td>\n",
       "      <td>131.0</td>\n",
       "      <td>NaN</td>\n",
       "      <td>59.0</td>\n",
       "      <td>1.7</td>\n",
       "      <td>17.0</td>\n",
       "      <td>10.0</td>\n",
       "    </tr>\n",
       "  </tbody>\n",
       "</table>\n",
       "</div>"
      ],
      "text/plain": [
       "            id      station_id                 time  PM25_Concentration  \\\n",
       "37167  3002367  xizhimenbei_aq  2018-05-16 23:00:00                76.0   \n",
       "37168  3002368   nansanhuan_aq  2018-05-16 23:00:00                29.0   \n",
       "37169  3002369   dongsihuan_aq  2018-05-16 23:00:00               131.0   \n",
       "\n",
       "       PM10_Concentration  NO2_Concentration  CO_Concentration  \\\n",
       "37167                78.0               62.0               1.5   \n",
       "37168                92.0               69.0               1.2   \n",
       "37169                 NaN               59.0               1.7   \n",
       "\n",
       "       O3_Concentration  SO2_Concentration  \n",
       "37167              26.0                3.0  \n",
       "37168              23.0                7.0  \n",
       "37169              17.0               10.0  "
      ]
     },
     "execution_count": 15,
     "metadata": {},
     "output_type": "execute_result"
    }
   ],
   "source": [
    "b_air.tail(3)"
   ]
  },
  {
   "cell_type": "code",
   "execution_count": 16,
   "metadata": {},
   "outputs": [],
   "source": [
    "b_air.columns = ['id', 'test_id', 'time', 'PM2.5', 'PM10','NO2', 'CO', 'O3', 'SO2']"
   ]
  },
  {
   "cell_type": "code",
   "execution_count": 17,
   "metadata": {},
   "outputs": [],
   "source": [
    "sample = pd.read_csv(\"sample_submission.csv\")\n",
    "\n",
    "def id(i):\n",
    "    return i.split('#')[0]\n",
    "\n",
    "test_station = pd.DataFrame(list(map(id, sample['test_id']))).drop_duplicates()\n",
    "test_station.columns = ['id']\n",
    "test_station = list(test_station['id'])\n",
    "\n",
    "bj_test_station = test_station[:35]\n",
    "ld_test_station = test_station[35:]"
   ]
  },
  {
   "cell_type": "code",
   "execution_count": 18,
   "metadata": {},
   "outputs": [],
   "source": [
    "def function1(i, y):\n",
    "    b_air[b_air[\"test_id\"] == i][y].fillna(np.mean(b_air[b_air[\"test_id\"] == i][y]))\n",
    "    dataset = b_air[b_air[\"test_id\"] == i][y]\n",
    "    return dataset"
   ]
  },
  {
   "cell_type": "code",
   "execution_count": 19,
   "metadata": {},
   "outputs": [],
   "source": [
    "def lstm_cell():\n",
    "    cell = tf.contrib.rnn.BasicLSTMCell(num_units=rnn_cell_hidden_dim, \n",
    "                                        forget_bias=forget_bias, state_is_tuple=True, activation=tf.nn.softsign)\n",
    "    if keep_prob < 1.0:\n",
    "        cell = tf.contrib.rnn.DropoutWrapper(cell, output_keep_prob=keep_prob)\n",
    "    return cell"
   ]
  },
  {
   "cell_type": "code",
   "execution_count": 20,
   "metadata": {},
   "outputs": [],
   "source": [
    "def smape(targets, predictions):\n",
    "    dividend= np.abs(np.array(targets) - np.array(predictions))\n",
    "    denominator = np.array(targets) + np.array(predictions)\n",
    "    \n",
    "    return 2 * np.mean(np.divide(dividend, denominator, out=np.zeros_like(dividend), where=denominator!=0, casting='unsafe'))"
   ]
  },
  {
   "cell_type": "code",
   "execution_count": 21,
   "metadata": {},
   "outputs": [],
   "source": [
    "def min_max_scaling(x):\n",
    "    x_np = np.asarray(x)\n",
    "    return (x_np-x_np.min()) / (x_np.max()-x_np.min() + 1e-7)"
   ]
  },
  {
   "cell_type": "code",
   "execution_count": 28,
   "metadata": {},
   "outputs": [],
   "source": [
    "# 하이퍼파라미터\n",
    "rnn_cell_hidden_dim = 32   # 각 셀의 (hidden)출력 크기\n",
    "forget_bias = 1.0          # 망각편향(기본값 1.0)\n",
    "num_stacked_layers = 1     # stacked LSTM layers 개수\n",
    "keep_prob = 1.0            # dropout할 때 keep할 비율\n",
    "epoch_num = 1000           # 에폭 횟수(학습용전체데이터를 몇 회 반복해서 학습할 것인가 입력)\n",
    "learning_rate = 0.01   # 학습률"
   ]
  },
  {
   "cell_type": "code",
   "execution_count": 29,
   "metadata": {},
   "outputs": [],
   "source": [
    "tf.reset_default_graph()"
   ]
  },
  {
   "cell_type": "code",
   "execution_count": 38,
   "metadata": {},
   "outputs": [
    {
     "name": "stdout",
     "output_type": "stream",
     "text": [
      "hypothesis:  Tensor(\"rnn/transpose_1:0\", shape=(?, 7, 32), dtype=float32)\n",
      "학습을 시작합니다...\n",
      "epoch: 100, train_error: 1.101232886314392, test_error: 1.2101248502731323\n",
      "epoch: 200, train_error: 0.7825236916542053, test_error: 0.9217275381088257\n",
      "epoch: 300, train_error: 0.6525397896766663, test_error: 0.7970860004425049\n",
      "epoch: 400, train_error: 0.5983300805091858, test_error: 0.7338069677352905\n",
      "epoch: 500, train_error: 0.5780307054519653, test_error: 0.7010804414749146\n",
      "epoch: 600, train_error: 0.570580244064331, test_error: 0.6840179562568665\n",
      "epoch: 700, train_error: 0.5683408975601196, test_error: 0.6756871342658997\n",
      "epoch: 800, train_error: 0.5676265954971313, test_error: 0.6714863777160645\n",
      "epoch: 900, train_error: 0.5674375891685486, test_error: 0.669567346572876\n",
      "epoch: 1000, train_error: 0.5673786401748657, test_error: 0.6687657237052917\n",
      "hypothesis:  Tensor(\"rnn/transpose_1:0\", shape=(?, 7, 32), dtype=float32)\n",
      "학습을 시작합니다...\n",
      "epoch: 100, train_error: 1.0699470043182373, test_error: 1.09169602394104\n",
      "epoch: 200, train_error: 0.8333290219306946, test_error: 0.8980718851089478\n",
      "epoch: 300, train_error: 0.7402964234352112, test_error: 0.8152376413345337\n",
      "epoch: 400, train_error: 0.7059962749481201, test_error: 0.7829701900482178\n",
      "epoch: 500, train_error: 0.6937663555145264, test_error: 0.7706149816513062\n",
      "epoch: 600, train_error: 0.6893709301948547, test_error: 0.7657725811004639\n",
      "epoch: 700, train_error: 0.6877058744430542, test_error: 0.7639968991279602\n",
      "epoch: 800, train_error: 0.687082052230835, test_error: 0.7633247971534729\n",
      "epoch: 900, train_error: 0.6868706941604614, test_error: 0.7630977034568787\n",
      "epoch: 1000, train_error: 0.68680739402771, test_error: 0.7630294561386108\n",
      "hypothesis:  Tensor(\"rnn/transpose_1:0\", shape=(?, 7, 32), dtype=float32)\n",
      "학습을 시작합니다...\n",
      "epoch: 100, train_error: 1.1436798572540283, test_error: 1.248002052307129\n",
      "epoch: 200, train_error: 0.8526929020881653, test_error: 0.9804264307022095\n",
      "epoch: 300, train_error: 0.7139235138893127, test_error: 0.8467559218406677\n",
      "epoch: 400, train_error: 0.6514107584953308, test_error: 0.7732463479042053\n",
      "epoch: 500, train_error: 0.6251744031906128, test_error: 0.7322353720664978\n",
      "epoch: 600, train_error: 0.6162006855010986, test_error: 0.7119593024253845\n",
      "epoch: 700, train_error: 0.6129614114761353, test_error: 0.7016158699989319\n",
      "epoch: 800, train_error: 0.6118242144584656, test_error: 0.6961969137191772\n",
      "epoch: 900, train_error: 0.6113432049751282, test_error: 0.6935926675796509\n",
      "epoch: 1000, train_error: 0.61115562915802, test_error: 0.6924225687980652\n",
      "hypothesis:  Tensor(\"rnn/transpose_1:0\", shape=(?, 7, 32), dtype=float32)\n",
      "학습을 시작합니다...\n",
      "epoch: 100, train_error: 1.0161854028701782, test_error: 1.109680414199829\n",
      "epoch: 200, train_error: 0.746319055557251, test_error: 0.8700279593467712\n",
      "epoch: 300, train_error: 0.6502372622489929, test_error: 0.7689353823661804\n",
      "epoch: 400, train_error: 0.61805659532547, test_error: 0.721432089805603\n",
      "epoch: 500, train_error: 0.6082063317298889, test_error: 0.7014420032501221\n",
      "epoch: 600, train_error: 0.6054240465164185, test_error: 0.6929966807365417\n",
      "epoch: 700, train_error: 0.6046525239944458, test_error: 0.6895317435264587\n",
      "epoch: 800, train_error: 0.6044260859489441, test_error: 0.6882315278053284\n",
      "epoch: 900, train_error: 0.6043604612350464, test_error: 0.6877955198287964\n",
      "epoch: 1000, train_error: 0.6043395400047302, test_error: 0.6876632571220398\n",
      "hypothesis:  Tensor(\"rnn/transpose_1:0\", shape=(?, 7, 32), dtype=float32)\n",
      "학습을 시작합니다...\n",
      "epoch: 100, train_error: 1.1741909980773926, test_error: 1.2968848943710327\n",
      "epoch: 200, train_error: 0.8941439390182495, test_error: 1.0444138050079346\n",
      "epoch: 300, train_error: 0.7615290284156799, test_error: 0.9207801818847656\n",
      "epoch: 400, train_error: 0.6942055225372314, test_error: 0.849160373210907\n",
      "epoch: 500, train_error: 0.6646543741226196, test_error: 0.8096446394920349\n",
      "epoch: 600, train_error: 0.6521669030189514, test_error: 0.7889217734336853\n",
      "epoch: 700, train_error: 0.6469688415527344, test_error: 0.7781714797019958\n",
      "epoch: 800, train_error: 0.6450592279434204, test_error: 0.7723919749259949\n",
      "epoch: 900, train_error: 0.6443796157836914, test_error: 0.7695403695106506\n",
      "epoch: 1000, train_error: 0.6441412568092346, test_error: 0.7682141661643982\n",
      "hypothesis:  Tensor(\"rnn/transpose_1:0\", shape=(?, 7, 32), dtype=float32)\n",
      "학습을 시작합니다...\n",
      "epoch: 100, train_error: 1.2242982387542725, test_error: 1.3220994472503662\n",
      "epoch: 200, train_error: 0.9702737927436829, test_error: 1.096855878829956\n",
      "epoch: 300, train_error: 0.8532195091247559, test_error: 0.9746317267417908\n",
      "epoch: 400, train_error: 0.8010504841804504, test_error: 0.9116273522377014\n",
      "epoch: 500, train_error: 0.7798561453819275, test_error: 0.8795236349105835\n",
      "epoch: 600, train_error: 0.770749568939209, test_error: 0.8636800646781921\n",
      "epoch: 700, train_error: 0.7669171094894409, test_error: 0.8564714193344116\n",
      "epoch: 800, train_error: 0.7653380632400513, test_error: 0.853067934513092\n",
      "epoch: 900, train_error: 0.7647181153297424, test_error: 0.8515217900276184\n",
      "epoch: 1000, train_error: 0.7644675970077515, test_error: 0.8508657217025757\n",
      "hypothesis:  Tensor(\"rnn/transpose_1:0\", shape=(?, 7, 32), dtype=float32)\n",
      "학습을 시작합니다...\n",
      "epoch: 100, train_error: 1.101245641708374, test_error: 1.1254918575286865\n",
      "epoch: 200, train_error: 0.8628489971160889, test_error: 0.9092021584510803\n",
      "epoch: 300, train_error: 0.7666422128677368, test_error: 0.811357855796814\n",
      "epoch: 400, train_error: 0.7272404432296753, test_error: 0.7667554616928101\n",
      "epoch: 500, train_error: 0.711898684501648, test_error: 0.7480958104133606\n",
      "epoch: 600, train_error: 0.7056353688240051, test_error: 0.7399543523788452\n",
      "epoch: 700, train_error: 0.7031282186508179, test_error: 0.7364964485168457\n",
      "epoch: 800, train_error: 0.7021628022193909, test_error: 0.7351394891738892\n",
      "epoch: 900, train_error: 0.7018191814422607, test_error: 0.7346630692481995\n",
      "epoch: 1000, train_error: 0.7017085552215576, test_error: 0.7345113158226013\n",
      "hypothesis:  Tensor(\"rnn/transpose_1:0\", shape=(?, 7, 32), dtype=float32)\n",
      "학습을 시작합니다...\n",
      "epoch: 100, train_error: 1.1322853565216064, test_error: 1.0980198383331299\n",
      "epoch: 200, train_error: 0.9552355408668518, test_error: 0.9250123500823975\n",
      "epoch: 300, train_error: 0.8873691558837891, test_error: 0.8704521656036377\n",
      "epoch: 400, train_error: 0.8613256812095642, test_error: 0.8493783473968506\n",
      "epoch: 500, train_error: 0.8513671159744263, test_error: 0.8410171866416931\n",
      "epoch: 600, train_error: 0.8479201793670654, test_error: 0.8377926349639893\n",
      "epoch: 700, train_error: 0.8468390107154846, test_error: 0.8367387056350708\n",
      "epoch: 800, train_error: 0.8465506434440613, test_error: 0.8364496231079102\n",
      "epoch: 900, train_error: 0.8254122734069824, test_error: 0.8142536282539368\n",
      "epoch: 1000, train_error: 0.818126380443573, test_error: 0.8087879419326782\n",
      "hypothesis:  Tensor(\"rnn/transpose_1:0\", shape=(?, 7, 32), dtype=float32)\n",
      "학습을 시작합니다...\n",
      "epoch: 100, train_error: nan, test_error: nan\n",
      "epoch: 200, train_error: nan, test_error: nan\n",
      "epoch: 300, train_error: nan, test_error: nan\n",
      "epoch: 400, train_error: nan, test_error: nan\n",
      "epoch: 500, train_error: nan, test_error: nan\n",
      "epoch: 600, train_error: nan, test_error: nan\n",
      "epoch: 700, train_error: nan, test_error: nan\n",
      "epoch: 800, train_error: nan, test_error: nan\n",
      "epoch: 900, train_error: nan, test_error: nan\n",
      "epoch: 1000, train_error: nan, test_error: nan\n",
      "hypothesis:  Tensor(\"rnn/transpose_1:0\", shape=(?, 7, 32), dtype=float32)\n",
      "학습을 시작합니다...\n",
      "epoch: 100, train_error: 1.096166729927063, test_error: 1.199162244796753\n",
      "epoch: 200, train_error: 0.8446369767189026, test_error: 0.9313924312591553\n",
      "epoch: 300, train_error: 0.7493082880973816, test_error: 0.8112200498580933\n",
      "epoch: 400, train_error: 0.713643491268158, test_error: 0.758695662021637\n",
      "epoch: 500, train_error: 0.7014778852462769, test_error: 0.7348541021347046\n",
      "epoch: 600, train_error: 0.6976339221000671, test_error: 0.7241392135620117\n",
      "epoch: 700, train_error: 0.6964834928512573, test_error: 0.7194194793701172\n",
      "epoch: 800, train_error: 0.6960999369621277, test_error: 0.7175408005714417\n",
      "epoch: 900, train_error: 0.695976197719574, test_error: 0.7168848514556885\n",
      "epoch: 1000, train_error: 0.7008703947067261, test_error: 0.7387862801551819\n",
      "hypothesis:  Tensor(\"rnn/transpose_1:0\", shape=(?, 7, 32), dtype=float32)\n"
     ]
    },
    {
     "name": "stdout",
     "output_type": "stream",
     "text": [
      "학습을 시작합니다...\n",
      "epoch: 100, train_error: 1.218104600906372, test_error: 1.2420389652252197\n",
      "epoch: 200, train_error: 0.8749979734420776, test_error: 0.9572153687477112\n",
      "epoch: 300, train_error: 0.6990376114845276, test_error: 0.8078488111495972\n",
      "epoch: 400, train_error: 0.6074635982513428, test_error: 0.7310717701911926\n",
      "epoch: 500, train_error: 0.5603134632110596, test_error: 0.6903473138809204\n",
      "epoch: 600, train_error: 0.5350787043571472, test_error: 0.6655907034873962\n",
      "epoch: 700, train_error: 0.5220001339912415, test_error: 0.6543473601341248\n",
      "epoch: 800, train_error: 0.5160124897956848, test_error: 0.6483049392700195\n",
      "epoch: 900, train_error: 0.5130209922790527, test_error: 0.6451417803764343\n",
      "epoch: 1000, train_error: 0.5115892887115479, test_error: 0.643268346786499\n",
      "hypothesis:  Tensor(\"rnn/transpose_1:0\", shape=(?, 7, 32), dtype=float32)\n",
      "학습을 시작합니다...\n",
      "epoch: 100, train_error: 1.1854407787322998, test_error: 1.2213962078094482\n",
      "epoch: 200, train_error: 0.9392066597938538, test_error: 1.0189975500106812\n",
      "epoch: 300, train_error: 0.8334965109825134, test_error: 0.9282225370407104\n",
      "epoch: 400, train_error: 0.7861245274543762, test_error: 0.8828710913658142\n",
      "epoch: 500, train_error: 0.766861081123352, test_error: 0.8633031845092773\n",
      "epoch: 600, train_error: 0.7589927315711975, test_error: 0.8548392653465271\n",
      "epoch: 700, train_error: 0.755854606628418, test_error: 0.8508763909339905\n",
      "epoch: 800, train_error: 0.7544955611228943, test_error: 0.8492558598518372\n",
      "epoch: 900, train_error: 0.7539443969726562, test_error: 0.8485910296440125\n",
      "epoch: 1000, train_error: 0.7537428140640259, test_error: 0.8483362197875977\n",
      "hypothesis:  Tensor(\"rnn/transpose_1:0\", shape=(?, 7, 32), dtype=float32)\n",
      "학습을 시작합니다...\n",
      "epoch: 100, train_error: 1.2244701385498047, test_error: 1.3248847723007202\n",
      "epoch: 200, train_error: 0.9584524035453796, test_error: 1.065441608428955\n",
      "epoch: 300, train_error: 0.8448903560638428, test_error: 0.9284449219703674\n",
      "epoch: 400, train_error: 0.7995945811271667, test_error: 0.8627433180809021\n",
      "epoch: 500, train_error: 0.7803404927253723, test_error: 0.8299875855445862\n",
      "epoch: 600, train_error: 0.7725582122802734, test_error: 0.8143650889396667\n",
      "epoch: 700, train_error: 0.7693663835525513, test_error: 0.8065454363822937\n",
      "epoch: 800, train_error: 0.7679654359817505, test_error: 0.8026089668273926\n",
      "epoch: 900, train_error: 0.7673576474189758, test_error: 0.8008456826210022\n",
      "epoch: 1000, train_error: 0.7671113014221191, test_error: 0.8000990152359009\n",
      "hypothesis:  Tensor(\"rnn/transpose_1:0\", shape=(?, 7, 32), dtype=float32)\n",
      "학습을 시작합니다...\n",
      "epoch: 100, train_error: 1.051027774810791, test_error: 1.17185640335083\n",
      "epoch: 200, train_error: 0.8040085434913635, test_error: 0.9407878518104553\n",
      "epoch: 300, train_error: 0.7133228182792664, test_error: 0.8498803973197937\n",
      "epoch: 400, train_error: 0.6803152561187744, test_error: 0.80830979347229\n",
      "epoch: 500, train_error: 0.6680580973625183, test_error: 0.7902441620826721\n",
      "epoch: 600, train_error: 0.6637725830078125, test_error: 0.7825194597244263\n",
      "epoch: 700, train_error: 0.66231369972229, test_error: 0.7796145081520081\n",
      "epoch: 800, train_error: 0.6618454456329346, test_error: 0.7786538004875183\n",
      "epoch: 900, train_error: 0.6617122292518616, test_error: 0.778379499912262\n",
      "epoch: 1000, train_error: 0.6616835594177246, test_error: 0.7783211469650269\n",
      "hypothesis:  Tensor(\"rnn/transpose_1:0\", shape=(?, 7, 32), dtype=float32)\n",
      "학습을 시작합니다...\n",
      "epoch: 100, train_error: 1.0808871984481812, test_error: 1.2430068254470825\n",
      "epoch: 200, train_error: 0.8127138018608093, test_error: 0.9455677270889282\n",
      "epoch: 300, train_error: 0.6942333579063416, test_error: 0.7843719720840454\n",
      "epoch: 400, train_error: 0.6535546183586121, test_error: 0.7089399695396423\n",
      "epoch: 500, train_error: 0.6399868726730347, test_error: 0.6723935008049011\n",
      "epoch: 600, train_error: 0.6355740427970886, test_error: 0.6570998430252075\n",
      "epoch: 700, train_error: 0.6341579556465149, test_error: 0.6504828929901123\n",
      "epoch: 800, train_error: 0.6336737871170044, test_error: 0.6478116512298584\n",
      "epoch: 900, train_error: 0.6316633820533752, test_error: 0.6492624282836914\n",
      "epoch: 1000, train_error: 0.6306527256965637, test_error: 0.6471217274665833\n",
      "hypothesis:  Tensor(\"rnn/transpose_1:0\", shape=(?, 7, 32), dtype=float32)\n",
      "학습을 시작합니다...\n",
      "epoch: 100, train_error: 1.153180718421936, test_error: 1.1986643075942993\n",
      "epoch: 200, train_error: 0.9033075571060181, test_error: 0.969527542591095\n",
      "epoch: 300, train_error: 0.7855751514434814, test_error: 0.8584372401237488\n",
      "epoch: 400, train_error: 0.7303434014320374, test_error: 0.8045005202293396\n",
      "epoch: 500, train_error: 0.7072927355766296, test_error: 0.7774458527565002\n",
      "epoch: 600, train_error: 0.6986178755760193, test_error: 0.7641662955284119\n",
      "epoch: 700, train_error: 0.6950316429138184, test_error: 0.7589573860168457\n",
      "epoch: 800, train_error: 0.6936056017875671, test_error: 0.7564480900764465\n",
      "epoch: 900, train_error: 0.6930525302886963, test_error: 0.7552433609962463\n",
      "epoch: 1000, train_error: 0.6928436756134033, test_error: 0.7547171115875244\n",
      "hypothesis:  Tensor(\"rnn/transpose_1:0\", shape=(?, 7, 32), dtype=float32)\n",
      "학습을 시작합니다...\n",
      "epoch: 100, train_error: 1.1338860988616943, test_error: 1.190388560295105\n",
      "epoch: 200, train_error: 0.82334965467453, test_error: 0.8844645023345947\n",
      "epoch: 300, train_error: 0.6742837429046631, test_error: 0.7480790019035339\n",
      "epoch: 400, train_error: 0.5959250330924988, test_error: 0.6796181797981262\n",
      "epoch: 500, train_error: 0.5550758838653564, test_error: 0.6449364423751831\n",
      "epoch: 600, train_error: 0.5330921411514282, test_error: 0.6269318461418152\n",
      "epoch: 700, train_error: 0.5212475061416626, test_error: 0.6165586113929749\n",
      "epoch: 800, train_error: 0.515451192855835, test_error: 0.6111500263214111\n",
      "epoch: 900, train_error: 0.5126519203186035, test_error: 0.6085218191146851\n",
      "epoch: 1000, train_error: 0.5113289952278137, test_error: 0.6071611046791077\n",
      "hypothesis:  Tensor(\"rnn/transpose_1:0\", shape=(?, 7, 32), dtype=float32)\n",
      "학습을 시작합니다...\n",
      "epoch: 100, train_error: 1.0620054006576538, test_error: 1.2027039527893066\n",
      "epoch: 200, train_error: 0.7518896460533142, test_error: 0.8558867573738098\n",
      "epoch: 300, train_error: 0.6154694557189941, test_error: 0.6961581110954285\n",
      "epoch: 400, train_error: 0.559410810470581, test_error: 0.6254907250404358\n",
      "epoch: 500, train_error: 0.5384449362754822, test_error: 0.5961641073226929\n",
      "epoch: 600, train_error: 0.5318052172660828, test_error: 0.5822375416755676\n",
      "epoch: 700, train_error: 0.53017258644104, test_error: 0.5755085945129395\n",
      "epoch: 800, train_error: 0.5300037264823914, test_error: 0.5723801255226135\n",
      "epoch: 900, train_error: 0.530051589012146, test_error: 0.571087658405304\n",
      "epoch: 1000, train_error: 0.5300900340080261, test_error: 0.570536196231842\n",
      "hypothesis:  Tensor(\"rnn/transpose_1:0\", shape=(?, 7, 32), dtype=float32)\n",
      "학습을 시작합니다...\n",
      "epoch: 100, train_error: 1.0719008445739746, test_error: 1.1489098072052002\n",
      "epoch: 200, train_error: 0.7458667159080505, test_error: 0.8253676295280457\n",
      "epoch: 300, train_error: 0.6179363131523132, test_error: 0.6778212785720825\n",
      "epoch: 400, train_error: 0.5633755922317505, test_error: 0.6240528225898743\n",
      "epoch: 500, train_error: 0.5412940382957458, test_error: 0.602854311466217\n",
      "epoch: 600, train_error: 0.5334998369216919, test_error: 0.5937556624412537\n",
      "epoch: 700, train_error: 0.5307389497756958, test_error: 0.5893095135688782\n",
      "epoch: 800, train_error: 0.5298827886581421, test_error: 0.5873463153839111\n",
      "epoch: 900, train_error: 0.5296462774276733, test_error: 0.5864744782447815\n",
      "epoch: 1000, train_error: 0.5295830368995667, test_error: 0.5861011743545532\n",
      "hypothesis:  Tensor(\"rnn/transpose_1:0\", shape=(?, 7, 32), dtype=float32)\n",
      "학습을 시작합니다...\n",
      "epoch: 100, train_error: 1.1199342012405396, test_error: 1.3172234296798706\n",
      "epoch: 200, train_error: 0.7395370602607727, test_error: 0.9736984968185425\n",
      "epoch: 300, train_error: 0.554539680480957, test_error: 0.7742242813110352\n",
      "epoch: 400, train_error: 0.46968820691108704, test_error: 0.6562425494194031\n",
      "epoch: 500, train_error: 0.4378848671913147, test_error: 0.5889079570770264\n",
      "epoch: 600, train_error: 0.42917880415916443, test_error: 0.5475621819496155\n",
      "epoch: 700, train_error: 0.42804503440856934, test_error: 0.5238728523254395\n",
      "epoch: 800, train_error: 0.4292287528514862, test_error: 0.5097827911376953\n"
     ]
    },
    {
     "name": "stdout",
     "output_type": "stream",
     "text": [
      "epoch: 900, train_error: 0.43076980113983154, test_error: 0.501844048500061\n",
      "epoch: 1000, train_error: 0.43182265758514404, test_error: 0.4975598454475403\n",
      "hypothesis:  Tensor(\"rnn/transpose_1:0\", shape=(?, 7, 32), dtype=float32)\n",
      "학습을 시작합니다...\n",
      "epoch: 100, train_error: 1.1860820055007935, test_error: 1.257865309715271\n",
      "epoch: 200, train_error: 0.8285170197486877, test_error: 0.8941126465797424\n",
      "epoch: 300, train_error: 0.65833979845047, test_error: 0.7420116066932678\n",
      "epoch: 400, train_error: 0.5831578373908997, test_error: 0.663076639175415\n",
      "epoch: 500, train_error: 0.5513033866882324, test_error: 0.6230135560035706\n",
      "epoch: 600, train_error: 0.537195086479187, test_error: 0.602410078048706\n",
      "epoch: 700, train_error: 0.5315011143684387, test_error: 0.5925320386886597\n",
      "epoch: 800, train_error: 0.5297257900238037, test_error: 0.5877115726470947\n",
      "epoch: 900, train_error: 0.5292105078697205, test_error: 0.5855441689491272\n",
      "epoch: 1000, train_error: 0.5290820002555847, test_error: 0.5845286250114441\n",
      "hypothesis:  Tensor(\"rnn/transpose_1:0\", shape=(?, 7, 32), dtype=float32)\n",
      "학습을 시작합니다...\n",
      "epoch: 100, train_error: 1.2172380685806274, test_error: 1.318482756614685\n",
      "epoch: 200, train_error: 0.9743310809135437, test_error: 1.0293017625808716\n",
      "epoch: 300, train_error: 0.8530967235565186, test_error: 0.8994249105453491\n",
      "epoch: 400, train_error: 0.7832574248313904, test_error: 0.8264864087104797\n",
      "epoch: 500, train_error: 0.7438244223594666, test_error: 0.7828819155693054\n",
      "epoch: 600, train_error: 0.7217777371406555, test_error: 0.7571571469306946\n",
      "epoch: 700, train_error: 0.7098672986030579, test_error: 0.7413935661315918\n",
      "epoch: 800, train_error: 0.7038808465003967, test_error: 0.73194420337677\n",
      "epoch: 900, train_error: 0.7009734511375427, test_error: 0.7265918254852295\n",
      "epoch: 1000, train_error: 0.6995255947113037, test_error: 0.7236860990524292\n",
      "hypothesis:  Tensor(\"rnn/transpose_1:0\", shape=(?, 7, 32), dtype=float32)\n",
      "학습을 시작합니다...\n",
      "epoch: 100, train_error: 1.0528779029846191, test_error: 1.2536505460739136\n",
      "epoch: 200, train_error: 0.7657622694969177, test_error: 0.9343302249908447\n",
      "epoch: 300, train_error: 0.6492554545402527, test_error: 0.7607594132423401\n",
      "epoch: 400, train_error: 0.6014689207077026, test_error: 0.6719923615455627\n",
      "epoch: 500, train_error: 0.5832749009132385, test_error: 0.6268234848976135\n",
      "epoch: 600, train_error: 0.5765014886856079, test_error: 0.6044819951057434\n",
      "epoch: 700, train_error: 0.5737406611442566, test_error: 0.5946967601776123\n",
      "epoch: 800, train_error: 0.5727483630180359, test_error: 0.5904387831687927\n",
      "epoch: 900, train_error: 0.5723721981048584, test_error: 0.5887300372123718\n",
      "epoch: 1000, train_error: 0.5720323920249939, test_error: 0.5871523022651672\n",
      "hypothesis:  Tensor(\"rnn/transpose_1:0\", shape=(?, 7, 32), dtype=float32)\n",
      "학습을 시작합니다...\n",
      "epoch: 100, train_error: 1.2256423234939575, test_error: 1.32723069190979\n",
      "epoch: 200, train_error: 0.7825639843940735, test_error: 0.9208633899688721\n",
      "epoch: 300, train_error: 0.6059938073158264, test_error: 0.7469815015792847\n",
      "epoch: 400, train_error: 0.5382762551307678, test_error: 0.6667287349700928\n",
      "epoch: 500, train_error: 0.5146324634552002, test_error: 0.6349563598632812\n",
      "epoch: 600, train_error: 0.5084014534950256, test_error: 0.6196330189704895\n",
      "epoch: 700, train_error: 0.5071515440940857, test_error: 0.6119775772094727\n",
      "epoch: 800, train_error: 0.5070694088935852, test_error: 0.6084994673728943\n",
      "epoch: 900, train_error: 0.5071248412132263, test_error: 0.606863260269165\n",
      "epoch: 1000, train_error: 0.5071682333946228, test_error: 0.6061350107192993\n",
      "hypothesis:  Tensor(\"rnn/transpose_1:0\", shape=(?, 7, 32), dtype=float32)\n",
      "학습을 시작합니다...\n",
      "epoch: 100, train_error: 1.020460605621338, test_error: 1.166837453842163\n",
      "epoch: 200, train_error: 0.8344613313674927, test_error: 0.9447084665298462\n",
      "epoch: 300, train_error: 0.7665772438049316, test_error: 0.842279314994812\n",
      "epoch: 400, train_error: 0.7384227514266968, test_error: 0.7934483885765076\n",
      "epoch: 500, train_error: 0.7271244525909424, test_error: 0.7702098488807678\n",
      "epoch: 600, train_error: 0.7228394746780396, test_error: 0.7607080340385437\n",
      "epoch: 700, train_error: 0.7212532758712769, test_error: 0.7570006847381592\n",
      "epoch: 800, train_error: 0.7207105159759521, test_error: 0.7556906938552856\n",
      "epoch: 900, train_error: 0.7205448150634766, test_error: 0.7552914619445801\n",
      "epoch: 1000, train_error: 0.6950932145118713, test_error: 0.735529899597168\n",
      "hypothesis:  Tensor(\"rnn/transpose_1:0\", shape=(?, 7, 32), dtype=float32)\n",
      "학습을 시작합니다...\n",
      "epoch: 100, train_error: 1.3536442518234253, test_error: 1.5073548555374146\n",
      "epoch: 200, train_error: 0.9456565976142883, test_error: 1.1459239721298218\n",
      "epoch: 300, train_error: 0.7096913456916809, test_error: 0.8982460498809814\n",
      "epoch: 400, train_error: 0.5774011611938477, test_error: 0.7501273155212402\n",
      "epoch: 500, train_error: 0.5030664801597595, test_error: 0.6554250121116638\n",
      "epoch: 600, train_error: 0.4635399580001831, test_error: 0.5968454480171204\n",
      "epoch: 700, train_error: 0.44439440965652466, test_error: 0.5594385862350464\n",
      "epoch: 800, train_error: 0.43877801299095154, test_error: 0.5343654751777649\n",
      "epoch: 900, train_error: 0.4387839734554291, test_error: 0.5176153182983398\n",
      "epoch: 1000, train_error: 0.4405405819416046, test_error: 0.5075425505638123\n",
      "hypothesis:  Tensor(\"rnn/transpose_1:0\", shape=(?, 7, 32), dtype=float32)\n",
      "학습을 시작합니다...\n",
      "epoch: 100, train_error: 1.2860769033432007, test_error: 1.3656096458435059\n",
      "epoch: 200, train_error: 0.889441192150116, test_error: 1.0251916646957397\n",
      "epoch: 300, train_error: 0.6500090956687927, test_error: 0.8220266699790955\n",
      "epoch: 400, train_error: 0.5198909640312195, test_error: 0.6980649828910828\n",
      "epoch: 500, train_error: 0.45376572012901306, test_error: 0.6187447309494019\n",
      "epoch: 600, train_error: 0.4268045723438263, test_error: 0.5709822773933411\n",
      "epoch: 700, train_error: 0.4198836088180542, test_error: 0.5415382385253906\n",
      "epoch: 800, train_error: 0.4196074604988098, test_error: 0.5250193476676941\n",
      "epoch: 900, train_error: 0.4215605854988098, test_error: 0.5160338282585144\n",
      "epoch: 1000, train_error: 0.4236564636230469, test_error: 0.5104872584342957\n",
      "hypothesis:  Tensor(\"rnn/transpose_1:0\", shape=(?, 7, 32), dtype=float32)\n",
      "학습을 시작합니다...\n",
      "epoch: 100, train_error: 1.18107008934021, test_error: 1.2037619352340698\n",
      "epoch: 200, train_error: 0.934783399105072, test_error: 1.0056625604629517\n",
      "epoch: 300, train_error: 0.8151670694351196, test_error: 0.9091551303863525\n",
      "epoch: 400, train_error: 0.7590150237083435, test_error: 0.8613449335098267\n",
      "epoch: 500, train_error: 0.7305395603179932, test_error: 0.8404329419136047\n",
      "epoch: 600, train_error: 0.7163134217262268, test_error: 0.8292205333709717\n",
      "epoch: 700, train_error: 0.7093355655670166, test_error: 0.8237055540084839\n",
      "epoch: 800, train_error: 0.7059578895568848, test_error: 0.821116030216217\n",
      "epoch: 900, train_error: 0.7044147849082947, test_error: 0.8199016451835632\n",
      "epoch: 1000, train_error: 0.7037643194198608, test_error: 0.8193671703338623\n",
      "hypothesis:  Tensor(\"rnn/transpose_1:0\", shape=(?, 7, 32), dtype=float32)\n",
      "학습을 시작합니다...\n",
      "epoch: 100, train_error: 1.125884771347046, test_error: 1.2089035511016846\n",
      "epoch: 200, train_error: 0.817388653755188, test_error: 0.9362207055091858\n",
      "epoch: 300, train_error: 0.6710616946220398, test_error: 0.7992846965789795\n",
      "epoch: 400, train_error: 0.6023499965667725, test_error: 0.7274159789085388\n",
      "epoch: 500, train_error: 0.5692883133888245, test_error: 0.6862304210662842\n",
      "epoch: 600, train_error: 0.5562707185745239, test_error: 0.6637038588523865\n",
      "epoch: 700, train_error: 0.5518749952316284, test_error: 0.6517558097839355\n",
      "epoch: 800, train_error: 0.5500497221946716, test_error: 0.6451808214187622\n",
      "epoch: 900, train_error: 0.5492916107177734, test_error: 0.6418978571891785\n",
      "epoch: 1000, train_error: 0.5489875674247742, test_error: 0.6403475999832153\n",
      "hypothesis:  Tensor(\"rnn/transpose_1:0\", shape=(?, 7, 32), dtype=float32)\n",
      "학습을 시작합니다...\n",
      "epoch: 100, train_error: 1.087899923324585, test_error: 1.1879491806030273\n",
      "epoch: 200, train_error: 0.8420791029930115, test_error: 0.9809529185295105\n",
      "epoch: 300, train_error: 0.7583373785018921, test_error: 0.8911138772964478\n",
      "epoch: 400, train_error: 0.7335741519927979, test_error: 0.8506932854652405\n",
      "epoch: 500, train_error: 0.7277056574821472, test_error: 0.8310063481330872\n"
     ]
    },
    {
     "name": "stdout",
     "output_type": "stream",
     "text": [
      "epoch: 600, train_error: 0.7265198230743408, test_error: 0.8213872909545898\n",
      "epoch: 700, train_error: 0.7265394926071167, test_error: 0.8169547319412231\n",
      "epoch: 800, train_error: 0.7266800999641418, test_error: 0.8150802254676819\n",
      "epoch: 900, train_error: 0.7267462611198425, test_error: 0.8143636584281921\n",
      "epoch: 1000, train_error: 0.7267696857452393, test_error: 0.8141176104545593\n",
      "hypothesis:  Tensor(\"rnn/transpose_1:0\", shape=(?, 7, 32), dtype=float32)\n",
      "학습을 시작합니다...\n",
      "epoch: 100, train_error: 1.0572776794433594, test_error: 1.1452678442001343\n",
      "epoch: 200, train_error: 0.7867748737335205, test_error: 0.9022552371025085\n",
      "epoch: 300, train_error: 0.6806116700172424, test_error: 0.8011801242828369\n",
      "epoch: 400, train_error: 0.6410099864006042, test_error: 0.7572517991065979\n",
      "epoch: 500, train_error: 0.6261773705482483, test_error: 0.737678050994873\n",
      "epoch: 600, train_error: 0.6203538179397583, test_error: 0.7282134890556335\n",
      "epoch: 700, train_error: 0.6181263327598572, test_error: 0.7237843871116638\n",
      "epoch: 800, train_error: 0.6172803640365601, test_error: 0.7218512296676636\n",
      "epoch: 900, train_error: 0.6169764995574951, test_error: 0.7210791110992432\n",
      "epoch: 1000, train_error: 0.6168726086616516, test_error: 0.7207986116409302\n",
      "hypothesis:  Tensor(\"rnn/transpose_1:0\", shape=(?, 7, 32), dtype=float32)\n",
      "학습을 시작합니다...\n",
      "epoch: 100, train_error: 1.1229075193405151, test_error: 1.142417550086975\n",
      "epoch: 200, train_error: 0.8611663579940796, test_error: 0.9411707520484924\n",
      "epoch: 300, train_error: 0.751937985420227, test_error: 0.8565925359725952\n",
      "epoch: 400, train_error: 0.7057288885116577, test_error: 0.8213138580322266\n",
      "epoch: 500, train_error: 0.685324490070343, test_error: 0.8068307042121887\n",
      "epoch: 600, train_error: 0.6763432025909424, test_error: 0.8003041744232178\n",
      "epoch: 700, train_error: 0.6724255681037903, test_error: 0.7982242703437805\n",
      "epoch: 800, train_error: 0.6708711385726929, test_error: 0.7975791096687317\n",
      "epoch: 900, train_error: 0.6704085469245911, test_error: 0.7976386547088623\n",
      "epoch: 1000, train_error: 0.670260488986969, test_error: 0.7977267503738403\n",
      "hypothesis:  Tensor(\"rnn/transpose_1:0\", shape=(?, 7, 32), dtype=float32)\n",
      "학습을 시작합니다...\n",
      "epoch: 100, train_error: 1.0309722423553467, test_error: 1.1693896055221558\n",
      "epoch: 200, train_error: 0.7612927556037903, test_error: 0.9193788170814514\n",
      "epoch: 300, train_error: 0.670318067073822, test_error: 0.8000884056091309\n",
      "epoch: 400, train_error: 0.6402575969696045, test_error: 0.7446620464324951\n",
      "epoch: 500, train_error: 0.630526602268219, test_error: 0.7201370596885681\n",
      "epoch: 600, train_error: 0.6268661022186279, test_error: 0.7102839350700378\n",
      "epoch: 700, train_error: 0.6255703568458557, test_error: 0.7063862681388855\n",
      "epoch: 800, train_error: 0.6251314282417297, test_error: 0.7050095200538635\n",
      "epoch: 900, train_error: 0.6249955296516418, test_error: 0.7045872807502747\n",
      "epoch: 1000, train_error: 0.6249594688415527, test_error: 0.7044744491577148\n",
      "hypothesis:  Tensor(\"rnn/transpose_1:0\", shape=(?, 7, 32), dtype=float32)\n",
      "학습을 시작합니다...\n",
      "epoch: 100, train_error: 0.926888644695282, test_error: 1.0120223760604858\n",
      "epoch: 200, train_error: 0.7667351365089417, test_error: 0.8777201175689697\n",
      "epoch: 300, train_error: 0.7356514930725098, test_error: 0.8489562273025513\n",
      "epoch: 400, train_error: 0.7283532023429871, test_error: 0.8418887853622437\n",
      "epoch: 500, train_error: 0.7267525792121887, test_error: 0.8402267694473267\n",
      "epoch: 600, train_error: 0.7264626026153564, test_error: 0.8399159908294678\n",
      "epoch: 700, train_error: 0.7258957624435425, test_error: 0.8382440805435181\n",
      "epoch: 800, train_error: 0.7131360173225403, test_error: 0.8284130692481995\n",
      "epoch: 900, train_error: 0.626981258392334, test_error: 0.7499321103096008\n",
      "epoch: 1000, train_error: 0.6187828779220581, test_error: 0.7422919273376465\n",
      "hypothesis:  Tensor(\"rnn/transpose_1:0\", shape=(?, 7, 32), dtype=float32)\n",
      "학습을 시작합니다...\n",
      "epoch: 100, train_error: 1.044601559638977, test_error: 1.1506354808807373\n",
      "epoch: 200, train_error: 0.8856906294822693, test_error: 1.023583173751831\n",
      "epoch: 300, train_error: 0.8418990969657898, test_error: 0.9764331579208374\n",
      "epoch: 400, train_error: 0.829494059085846, test_error: 0.9628939628601074\n",
      "epoch: 500, train_error: 0.8261632323265076, test_error: 0.9587695598602295\n",
      "epoch: 600, train_error: 0.8253930807113647, test_error: 0.9576144218444824\n",
      "epoch: 700, train_error: 0.8250900506973267, test_error: 0.9606565237045288\n",
      "epoch: 800, train_error: 0.8184358477592468, test_error: 0.9577516913414001\n",
      "epoch: 900, train_error: 0.8079314827919006, test_error: 0.9457677602767944\n",
      "epoch: 1000, train_error: 0.7953625917434692, test_error: 0.9323054552078247\n"
     ]
    }
   ],
   "source": [
    "submission = []\n",
    "y = 'O3'\n",
    "for idx,i in enumerate(bj_test_station):\n",
    "    mean = np.mean(pd.DataFrame(function1(i,y)))\n",
    "    aq1 = list(pd.DataFrame(function1(i,y)).fillna(round(mean,1))[y])\n",
    "    #aq = min_max_scaling(aq1)\n",
    "    \n",
    "    data=[]\n",
    "    for i in range(len(aq1)-48):\n",
    "        aq = aq1[i:i+48]\n",
    "        data.append(aq)\n",
    "    \n",
    "    data_X=[]\n",
    "    data_Y=[]\n",
    "    seq_length = 7\n",
    "    for i in range(len(data)-seq_length):\n",
    "        data_X.append(data[i:i+seq_length]) \n",
    "        data_Y.append(data[i+seq_length]) # i+seq_length번째 날 예측\n",
    "        \n",
    "        \n",
    "    train_size = int(len(data_Y) * 0.8)\n",
    "    # 데이터를 잘라 학습용 데이터 생성\n",
    "    trainX = data_X[:train_size]\n",
    "    trainY = data_Y[:train_size]\n",
    "\n",
    "    # 데이터를 잘라 테스트용 데이터 생성\n",
    "    testX = data_X[train_size:]\n",
    "    testY = data_Y[train_size:]\n",
    "    \n",
    "    trainX = np.reshape(trainX, [len(trainX),seq_length,48])\n",
    "    testX = np.reshape(testX, [len(testX),seq_length,48])\n",
    "    trainY = np.reshape(trainY,[len(trainY),48])\n",
    "    testY = np.reshape(testY,[len(testY),48])\n",
    "\n",
    "    # 모델\n",
    "    X = tf.placeholder(tf.float32, [None, seq_length, 48])\n",
    "    Y = tf.placeholder(tf.float32, [None, 48])\n",
    "\n",
    "    targets = tf.placeholder(tf.float32, [None, 48])\n",
    "    predictions = tf.placeholder(tf.float32, [None, 48])\n",
    "\n",
    "    # num_stacked_layers개의 층으로 쌓인 Stacked RNNs 생성\n",
    "    stackedRNNs = [lstm_cell() for _ in range(num_stacked_layers)]\n",
    "    multi_cells = tf.contrib.rnn.MultiRNNCell(stackedRNNs, state_is_tuple=True) if num_stacked_layers > 1 else lstm_cell()\n",
    "\n",
    "    # RNN Cell(여기서는 LSTM셀임)들을 연결\n",
    "    hypothesis, _states = tf.nn.dynamic_rnn(multi_cells, X, dtype=tf.float32)\n",
    "    print(\"hypothesis: \", hypothesis)\n",
    "\n",
    "    hypothesis = tf.contrib.layers.fully_connected(hypothesis[:, -1], 48, activation_fn=tf.nn.relu)\n",
    "    \n",
    "    # 손실함수로 평균제곱오차를 사용한다\n",
    "    loss = tf.reduce_sum(tf.square(hypothesis - Y))\n",
    "    optimizer = tf.train.AdamOptimizer(learning_rate)\n",
    "    train = optimizer.minimize(loss)\n",
    "    \n",
    "    #rmse = tf.sqrt(tf.reduce_mean(tf.squared_difference(targets, predictions)))\n",
    "    temp = tf.divide(tf.abs(targets-predictions), targets+predictions)\n",
    "    smape = 2*tf.reduce_mean(temp)\n",
    "    \n",
    "    train_error_summary = []\n",
    "    test_error_summary = []  # 테스트용 데이터의 오류를 중간 중간 기록한다\n",
    "    test_predict = ''        # 테스트용데이터로 예측한 결과\n",
    " \n",
    "    sess = tf.Session()\n",
    "    sess.run(tf.global_variables_initializer())\n",
    "\n",
    "    # 학습한다\n",
    "    print('학습을 시작합니다...')\n",
    "\n",
    "    for epoch in range(epoch_num):\n",
    "        _, _loss = sess.run([train, loss], feed_dict={X: trainX, Y: trainY})\n",
    "        if ((epoch+1) % 100 == 0) or (epoch == epoch_num-1): # 100번째마다 또는 마지막 epoch인 경우\n",
    "\n",
    "            # 학습용데이터로 rmse오차를 구한다\n",
    "            train_predict = sess.run(hypothesis, feed_dict={X: trainX})\n",
    "            train_error = sess.run(smape, feed_dict={targets: trainY, predictions: train_predict})\n",
    "            train_error_summary.append(train_error)\n",
    " \n",
    "            # 테스트용데이터로 rmse오차를 구한다\n",
    "            test_predict = sess.run(hypothesis, feed_dict={X: testX})\n",
    "            test_error = sess.run(smape, feed_dict={targets: testY, predictions: test_predict})\n",
    "            test_error_summary.append(test_error)\n",
    "        \n",
    "            print(\"epoch: {}, train_error: {}, test_error: {}\".format(epoch+1,train_error,test_error))\n",
    "    \n",
    "    recent_data = np.reshape(data_X[len(data_X)-seq_length:][0], [-1,seq_length,48])\n",
    "    test_predict = sess.run(hypothesis, feed_dict={X: recent_data})\n",
    "    #print(\"test_predict\", test_predict)\n",
    "     \n",
    "    submission.append(test_predict[0])\n",
    "    \n",
    "    tf.reset_default_graph()"
   ]
  },
  {
   "cell_type": "code",
   "execution_count": 35,
   "metadata": {},
   "outputs": [
    {
     "data": {
      "text/plain": [
       "array([nan, nan, nan, nan, nan, nan, nan, nan, nan, nan, nan, nan, nan,\n",
       "       nan, nan, nan, nan, nan, nan, nan, nan, nan, nan, nan, nan, nan,\n",
       "       nan, nan, nan, nan, nan, nan, nan, nan, nan, nan, nan, nan, nan,\n",
       "       nan, nan, nan, nan, nan, nan, nan, nan, nan], dtype=float32)"
      ]
     },
     "execution_count": 35,
     "metadata": {},
     "output_type": "execute_result"
    }
   ],
   "source": [
    "submission[8]"
   ]
  },
  {
   "cell_type": "code",
   "execution_count": 36,
   "metadata": {},
   "outputs": [],
   "source": [
    "# nan....\n",
    "#submission[8]\n",
    "submission[8] = np.array(np.mean(pd.DataFrame(submission).fillna(0)))"
   ]
  },
  {
   "cell_type": "code",
   "execution_count": 33,
   "metadata": {},
   "outputs": [
    {
     "data": {
      "text/plain": [
       "array([86.42341614, 86.7063446 , 87.58744049, ..., 79.71664429,\n",
       "       78.56103516, 77.88911438])"
      ]
     },
     "execution_count": 33,
     "metadata": {},
     "output_type": "execute_result"
    }
   ],
   "source": [
    "PM25 = np.reshape(submission,-1)\n",
    "PM25"
   ]
  },
  {
   "cell_type": "code",
   "execution_count": 37,
   "metadata": {},
   "outputs": [
    {
     "data": {
      "text/plain": [
       "array([124.87099457, 124.52959442, 124.61665344, ..., 138.3986969 ,\n",
       "       138.23973083, 138.08988953])"
      ]
     },
     "execution_count": 37,
     "metadata": {},
     "output_type": "execute_result"
    }
   ],
   "source": [
    "PM10 = np.reshape(submission,-1)\n",
    "PM10"
   ]
  },
  {
   "cell_type": "code",
   "execution_count": 42,
   "metadata": {},
   "outputs": [
    {
     "data": {
      "text/plain": [
       "array([73.00096 , 72.924324, 73.4764  , ..., 69.26859 , 54.674362,\n",
       "       40.458294], dtype=float32)"
      ]
     },
     "execution_count": 42,
     "metadata": {},
     "output_type": "execute_result"
    }
   ],
   "source": [
    "O3 = np.reshape(submission,-1)\n",
    "O3"
   ]
  },
  {
   "cell_type": "code",
   "execution_count": 43,
   "metadata": {},
   "outputs": [],
   "source": [
    "pm25 = pd.DataFrame(PM25)\n",
    "pm10 = pd.DataFrame(PM10)\n",
    "o3 = pd.DataFrame(O3)"
   ]
  },
  {
   "cell_type": "code",
   "execution_count": 44,
   "metadata": {},
   "outputs": [],
   "source": [
    "pm25.to_csv('pm25_0515.csv')\n",
    "pm10.to_csv('pm10_0515.csv')\n",
    "o3.to_csv('o3_0515.csv')"
   ]
  },
  {
   "cell_type": "code",
   "execution_count": 45,
   "metadata": {},
   "outputs": [],
   "source": [
    "p25 = pd.read_csv('ld_25_0515.csv')\n",
    "p10 = pd.read_csv('ld_10_0515.csv')"
   ]
  },
  {
   "cell_type": "code",
   "execution_count": 46,
   "metadata": {},
   "outputs": [],
   "source": [
    "pm25.columns = ['y']\n",
    "pm10.columns = ['y']\n",
    "o3.columns = ['y']\n",
    "p25.columns = ['a', 'y']\n",
    "p10.columns = ['a', 'y']"
   ]
  },
  {
   "cell_type": "code",
   "execution_count": 47,
   "metadata": {},
   "outputs": [
    {
     "data": {
      "text/plain": [
       "624"
      ]
     },
     "execution_count": 47,
     "metadata": {},
     "output_type": "execute_result"
    }
   ],
   "source": [
    "len(p25)"
   ]
  },
  {
   "cell_type": "code",
   "execution_count": 48,
   "metadata": {},
   "outputs": [],
   "source": [
    "sample['PM2.5'] = list(pm25['y'])+(list(p25['y']))"
   ]
  },
  {
   "cell_type": "code",
   "execution_count": 49,
   "metadata": {},
   "outputs": [],
   "source": [
    "sample['PM10'] = list(pm10['y'])+(list(p10['y']))"
   ]
  },
  {
   "cell_type": "code",
   "execution_count": 50,
   "metadata": {
    "scrolled": true
   },
   "outputs": [
    {
     "name": "stderr",
     "output_type": "stream",
     "text": [
      "/anaconda3/lib/python3.6/site-packages/ipykernel_launcher.py:1: SettingWithCopyWarning: \n",
      "A value is trying to be set on a copy of a slice from a DataFrame\n",
      "\n",
      "See the caveats in the documentation: http://pandas.pydata.org/pandas-docs/stable/indexing.html#indexing-view-versus-copy\n",
      "  \"\"\"Entry point for launching an IPython kernel.\n"
     ]
    }
   ],
   "source": [
    "sample['O3'][:1680] = list(o3['y'])"
   ]
  },
  {
   "cell_type": "code",
   "execution_count": 51,
   "metadata": {},
   "outputs": [
    {
     "data": {
      "text/plain": [
       "'zhiwuyuan_aq'"
      ]
     },
     "execution_count": 51,
     "metadata": {},
     "output_type": "execute_result"
    }
   ],
   "source": [
    "bj_test_station[8]"
   ]
  },
  {
   "cell_type": "code",
   "execution_count": 52,
   "metadata": {},
   "outputs": [],
   "source": [
    "sample.to_csv('sample_0515.csv',index=False)"
   ]
  },
  {
   "cell_type": "code",
   "execution_count": 53,
   "metadata": {},
   "outputs": [
    {
     "name": "stdout",
     "output_type": "stream",
     "text": [
      "{\"success\": true}\n"
     ]
    }
   ],
   "source": [
    "import requests\n",
    "files = {'files': open('sample_0515.csv','rb')}\n",
    "data = {\n",
    "    \"user_id\": \"dasolhwang\",\n",
    "    \"team_token\": \"53ed3560830874472182ca33790fe582ebd15bfb2f0506cb03d7757a9acc7480\",\n",
    "    \"description\": 'dasol_2018-05-15',\n",
    "    \"filename\": \"sample_0515.csv\",\n",
    "}\n",
    "url = 'https://biendata.com/competition/kdd_2018_submit/'\n",
    "response = requests.post(url, files=files, data=data)\n",
    "print(response.text)"
   ]
  },
  {
   "cell_type": "code",
   "execution_count": null,
   "metadata": {},
   "outputs": [],
   "source": []
  }
 ],
 "metadata": {
  "kernelspec": {
   "display_name": "Python 3",
   "language": "python",
   "name": "python3"
  },
  "language_info": {
   "codemirror_mode": {
    "name": "ipython",
    "version": 3
   },
   "file_extension": ".py",
   "mimetype": "text/x-python",
   "name": "python",
   "nbconvert_exporter": "python",
   "pygments_lexer": "ipython3",
   "version": "3.6.4"
  }
 },
 "nbformat": 4,
 "nbformat_minor": 2
}
